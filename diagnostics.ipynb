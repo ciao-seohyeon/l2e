{
 "cells": [
  {
   "attachments": {},
   "cell_type": "markdown",
   "metadata": {},
   "source": [
    "### Convergence analysis"
   ]
  },
  {
   "cell_type": "code",
   "execution_count": null,
   "metadata": {},
   "outputs": [],
   "source": [
    "import os\n",
    "import numpy as np\n",
    "import jax\n",
    "import jax.numpy as jnp\n",
    "from matplotlib import pylab as plt\n",
    "\n",
    "import nxcl\n",
    "from nxcl.config import load_config, save_config, add_config_arguments, ConfigDict\n",
    "\n",
    "from utils.parse import *\n",
    "from utils.tree_util import *\n",
    "\n",
    "from utils.metadata import get_nist, get_cifar\n",
    "import pickle\n",
    "from utils.metadata import *\n",
    "\n",
    "import tensorflow as tf\n",
    "import tensorflow_probability as tfp"
   ]
  },
  {
   "cell_type": "code",
   "execution_count": null,
   "metadata": {},
   "outputs": [],
   "source": [
    "import gdown\n",
    "id = \"1T04CsJSS2ku-lx5I17TOsQVZuLQFpX_S\"\n",
    "output = './result/eval.zip'\n",
    "gdown.download(id=id, output=output)\n",
    "!unzip -q ./result/eval.zip"
   ]
  },
  {
   "attachments": {},
   "cell_type": "markdown",
   "metadata": {},
   "source": [
    "### Model Path"
   ]
  },
  {
   "cell_type": "code",
   "execution_count": 26,
   "metadata": {},
   "outputs": [],
   "source": [
    "### c10\n",
    "model1_path = './result/eval/c10_frn/2024_1_30_74550'\n",
    "model2_path = './result/eval/c10_frn/2024_1_30_105910'\n",
    "model3_path = './result/eval/c10_frn/2024_1_30_23418'"
   ]
  },
  {
   "attachments": {},
   "cell_type": "markdown",
   "metadata": {},
   "source": [
    "### ESS"
   ]
  },
  {
   "cell_type": "code",
   "execution_count": 29,
   "metadata": {},
   "outputs": [],
   "source": [
    "# A6000\n",
    "csg_epoch = 1.7938\n",
    "meta_epoch = 2.4441\n",
    "l2e_epoch = 2.645"
   ]
  },
  {
   "cell_type": "code",
   "execution_count": 31,
   "metadata": {},
   "outputs": [
    {
     "name": "stdout",
     "output_type": "stream",
     "text": [
      "82.97792060491493 0.5161746810018903\n"
     ]
    }
   ],
   "source": [
    "lopt_ess_list = []\n",
    "\n",
    "for model_path in [model1_path, model2_path , model3_path]:\n",
    "    with open(f'{model_path}/model.pickle', 'rb') as f:\n",
    "        param_list = pickle.load(f)\n",
    "    flatten_param_list = [np.asarray(jax.flatten_util.ravel_pytree(params)[0]) for params in param_list]\n",
    "    states = jnp.stack(flatten_param_list,0)\n",
    "    lopt_ess = tfp.mcmc.effective_sample_size(states=states, filter_beyond_positive_pairs=False)\n",
    "    # print(np.sum(lopt_ess))\n",
    "    lopt_ess_list.append(np.sum(lopt_ess))\n",
    "\n",
    "mean, std = np.asarray(lopt_ess_list).mean(), np.asarray(lopt_ess_list).std()\n",
    "print(mean/l2e_epoch/100000, std/l2e_epoch/100000)"
   ]
  },
  {
   "attachments": {},
   "cell_type": "markdown",
   "metadata": {},
   "source": [
    "### R hat"
   ]
  },
  {
   "cell_type": "code",
   "execution_count": 7,
   "metadata": {},
   "outputs": [
    {
     "data": {
      "text/plain": [
       "0.920021542025393"
      ]
     },
     "execution_count": 7,
     "metadata": {},
     "output_type": "execute_result"
    }
   ],
   "source": [
    "state_list = []\n",
    "\n",
    "for model_path in [model1_path, model2_path , model3_path]:\n",
    "    with open(f'{model_path}/model.pickle', 'rb') as f:\n",
    "        param_list = pickle.load(f)\n",
    "    flatten_param_list = [np.asarray(jax.flatten_util.ravel_pytree(params)[0]) for params in param_list]\n",
    "    states = jnp.stack(flatten_param_list,0)\n",
    "    state_list.append(states)\n",
    "\n",
    "total_chain = jnp.stack(state_list,1)\n",
    "# print(total_chain.shape)\n",
    "Rhat_lopt = tfp.mcmc.diagnostic.potential_scale_reduction(total_chain, independent_chain_ndims=1)\n",
    "\n",
    "len(Rhat_lopt[Rhat_lopt <1.2])/len(Rhat_lopt)"
   ]
  },
  {
   "cell_type": "code",
   "execution_count": 81,
   "metadata": {},
   "outputs": [
    {
     "data": {
      "image/png": "[encoded data removed]",
      "text/plain": [
       "<Figure size 640x480 with 1 Axes>"
      ]
     },
     "metadata": {},
     "output_type": "display_data"
    }
   ],
   "source": [
    "plt.hist(Rhat_lopt, log=True, bins=50)\n",
    "plt.xlabel('$\\^{R}$')\n",
    "plt.title('R hat - Weight Space')\n",
    "plt.grid(True)\n",
    "plt.xlim(0.5, plt.xlim()[1])\n",
    "plt.show()"
   ]
  }
 ],
 "metadata": {
  "kernelspec": {
   "display_name": "sing-meta",
   "language": "python",
   "name": "python3"
  },
  "language_info": {
   "codemirror_mode": {
    "name": "ipython",
    "version": 3
   },
   "file_extension": ".py",
   "mimetype": "text/x-python",
   "name": "python",
   "nbconvert_exporter": "python",
   "pygments_lexer": "ipython3",
   "version": "3.9.12"
  },
  "orig_nbformat": 4,
  "vscode": {
   "interpreter": {
    "hash": "faadbc6c417a1fe751fa34592bbf94bf9fa4dbcb3f04c1a82e7975976b626c78"
   }
  }
 },
 "nbformat": 4,
 "nbformat_minor": 2
}
